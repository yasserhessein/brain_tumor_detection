{
 "cells": [
  {
   "cell_type": "code",
   "execution_count": 103,
   "metadata": {
    "colab": {
     "base_uri": "https://localhost:8080/",
     "height": 198
    },
    "colab_type": "code",
    "id": "NAed1-9ThMgd",
    "outputId": "18e0e1e1-938f-4b52-f514-972a7174a5e7"
   },
   "outputs": [
    {
     "data": {
      "text/html": [
       "<div>\n",
       "<style scoped>\n",
       "    .dataframe tbody tr th:only-of-type {\n",
       "        vertical-align: middle;\n",
       "    }\n",
       "\n",
       "    .dataframe tbody tr th {\n",
       "        vertical-align: top;\n",
       "    }\n",
       "\n",
       "    .dataframe thead th {\n",
       "        text-align: right;\n",
       "    }\n",
       "</style>\n",
       "<table border=\"1\" class=\"dataframe\">\n",
       "  <thead>\n",
       "    <tr style=\"text-align: right;\">\n",
       "      <th></th>\n",
       "      <th>Unnamed: 0</th>\n",
       "      <th>Area</th>\n",
       "      <th>Perimeter</th>\n",
       "      <th>Convex Area</th>\n",
       "      <th>Solidity</th>\n",
       "      <th>Equivalent Diameter</th>\n",
       "      <th>Major Axis</th>\n",
       "      <th>Minor Axis</th>\n",
       "      <th>Eccentricity</th>\n",
       "      <th>Class</th>\n",
       "    </tr>\n",
       "  </thead>\n",
       "  <tbody>\n",
       "    <tr>\n",
       "      <th>0</th>\n",
       "      <td>0</td>\n",
       "      <td>6314.5</td>\n",
       "      <td>521.972649</td>\n",
       "      <td>9855.5</td>\n",
       "      <td>0.640708</td>\n",
       "      <td>89.665328</td>\n",
       "      <td>86.297539</td>\n",
       "      <td>146.952896</td>\n",
       "      <td>(8.439724311699382e-17+1.3783115780934465j)</td>\n",
       "      <td>1</td>\n",
       "    </tr>\n",
       "    <tr>\n",
       "      <th>1</th>\n",
       "      <td>1</td>\n",
       "      <td>52776.5</td>\n",
       "      <td>1189.820409</td>\n",
       "      <td>59947.0</td>\n",
       "      <td>0.880386</td>\n",
       "      <td>259.224086</td>\n",
       "      <td>209.590240</td>\n",
       "      <td>405.861420</td>\n",
       "      <td>(1.015395044877726e-16+1.6582659515946696j)</td>\n",
       "      <td>1</td>\n",
       "    </tr>\n",
       "    <tr>\n",
       "      <th>2</th>\n",
       "      <td>2</td>\n",
       "      <td>50232.5</td>\n",
       "      <td>1415.349410</td>\n",
       "      <td>69628.5</td>\n",
       "      <td>0.721436</td>\n",
       "      <td>252.899200</td>\n",
       "      <td>223.632736</td>\n",
       "      <td>373.077637</td>\n",
       "      <td>(8.176507178841775e-17+1.3353249581078526j)</td>\n",
       "      <td>1</td>\n",
       "    </tr>\n",
       "    <tr>\n",
       "      <th>3</th>\n",
       "      <td>3</td>\n",
       "      <td>4486.0</td>\n",
       "      <td>275.622365</td>\n",
       "      <td>4741.5</td>\n",
       "      <td>0.946114</td>\n",
       "      <td>75.576138</td>\n",
       "      <td>64.818382</td>\n",
       "      <td>93.083397</td>\n",
       "      <td>(6.311037889163952e-17+1.0306707033502136j)</td>\n",
       "      <td>1</td>\n",
       "    </tr>\n",
       "    <tr>\n",
       "      <th>4</th>\n",
       "      <td>4</td>\n",
       "      <td>145.0</td>\n",
       "      <td>92.083260</td>\n",
       "      <td>323.5</td>\n",
       "      <td>0.448223</td>\n",
       "      <td>13.587484</td>\n",
       "      <td>16.900970</td>\n",
       "      <td>28.915043</td>\n",
       "      <td>(8.50007943665633e-17+1.3881683180120858j)</td>\n",
       "      <td>1</td>\n",
       "    </tr>\n",
       "  </tbody>\n",
       "</table>\n",
       "</div>"
      ],
      "text/plain": [
       "   Unnamed: 0     Area  ...                                 Eccentricity  Class\n",
       "0           0   6314.5  ...  (8.439724311699382e-17+1.3783115780934465j)      1\n",
       "1           1  52776.5  ...  (1.015395044877726e-16+1.6582659515946696j)      1\n",
       "2           2  50232.5  ...  (8.176507178841775e-17+1.3353249581078526j)      1\n",
       "3           3   4486.0  ...  (6.311037889163952e-17+1.0306707033502136j)      1\n",
       "4           4    145.0  ...   (8.50007943665633e-17+1.3881683180120858j)      1\n",
       "\n",
       "[5 rows x 10 columns]"
      ]
     },
     "execution_count": 103,
     "metadata": {
      "tags": []
     },
     "output_type": "execute_result"
    }
   ],
   "source": [
    "#import libraries\n",
    "import numpy as np\n",
    "import pandas as pd\n",
    "import matplotlib.pyplot as plt\n",
    "import seaborn as sns\n",
    "\n",
    "\n",
    "df = pd.read_csv('set.csv')\n",
    "df.head()"
   ]
  },
  {
   "cell_type": "code",
   "execution_count": 0,
   "metadata": {
    "colab": {},
    "colab_type": "code",
    "id": "D6aOuaPwulId"
   },
   "outputs": [],
   "source": []
  },
  {
   "cell_type": "code",
   "execution_count": 104,
   "metadata": {
    "colab": {
     "base_uri": "https://localhost:8080/",
     "height": 35
    },
    "colab_type": "code",
    "id": "ybPBv_LMhwk6",
    "outputId": "0913b609-0320-4003-910a-bafa03fb0078"
   },
   "outputs": [
    {
     "data": {
      "text/plain": [
       "(241, 10)"
      ]
     },
     "execution_count": 104,
     "metadata": {
      "tags": []
     },
     "output_type": "execute_result"
    }
   ],
   "source": [
    "#Count the number of rows and columns in the data set\n",
    "df.shape\n"
   ]
  },
  {
   "cell_type": "code",
   "execution_count": 105,
   "metadata": {
    "colab": {
     "base_uri": "https://localhost:8080/",
     "height": 297
    },
    "colab_type": "code",
    "id": "pYRl85nPh_MA",
    "outputId": "e197c1a8-9b89-4f78-f589-dcd659ea2c15"
   },
   "outputs": [
    {
     "data": {
      "text/plain": [
       "<matplotlib.axes._subplots.AxesSubplot at 0x7f725ac9d4e0>"
      ]
     },
     "execution_count": 105,
     "metadata": {
      "tags": []
     },
     "output_type": "execute_result"
    },
    {
     "data": {
      "image/png": "[encoded data removed]",
      "text/plain": [
       "<Figure size 432x288 with 1 Axes>"
      ]
     },
     "metadata": {
      "needs_background": "light",
      "tags": []
     },
     "output_type": "display_data"
    }
   ],
   "source": [
    "#Visualize this count\n",
    "sns.countplot(df['Class'],label=\"Count\")"
   ]
  },
  {
   "cell_type": "code",
   "execution_count": 106,
   "metadata": {
    "colab": {
     "base_uri": "https://localhost:8080/",
     "height": 217
    },
    "colab_type": "code",
    "id": "MKxSC619igYN",
    "outputId": "faff76d4-6091-4c72-d65f-f9d6d6a84c8c"
   },
   "outputs": [
    {
     "data": {
      "text/plain": [
       "Unnamed: 0               int64\n",
       "Area                   float64\n",
       "Perimeter              float64\n",
       "Convex Area            float64\n",
       "Solidity               float64\n",
       "Equivalent Diameter    float64\n",
       "Major Axis             float64\n",
       "Minor Axis             float64\n",
       "Eccentricity            object\n",
       "Class                    int64\n",
       "dtype: object"
      ]
     },
     "execution_count": 106,
     "metadata": {
      "tags": []
     },
     "output_type": "execute_result"
    }
   ],
   "source": [
    "#Look at the data types to see which columns need to be transformed / encoded to a number\n",
    "df.dtypes"
   ]
  },
  {
   "cell_type": "code",
   "execution_count": 107,
   "metadata": {
    "colab": {
     "base_uri": "https://localhost:8080/",
     "height": 318
    },
    "colab_type": "code",
    "id": "BrTd4-Czi6i1",
    "outputId": "bb6eceeb-30ce-448c-ba88-d82db3910f33"
   },
   "outputs": [
    {
     "data": {
      "text/html": [
       "<div>\n",
       "<style scoped>\n",
       "    .dataframe tbody tr th:only-of-type {\n",
       "        vertical-align: middle;\n",
       "    }\n",
       "\n",
       "    .dataframe tbody tr th {\n",
       "        vertical-align: top;\n",
       "    }\n",
       "\n",
       "    .dataframe thead th {\n",
       "        text-align: right;\n",
       "    }\n",
       "</style>\n",
       "<table border=\"1\" class=\"dataframe\">\n",
       "  <thead>\n",
       "    <tr style=\"text-align: right;\">\n",
       "      <th></th>\n",
       "      <th>Unnamed: 0</th>\n",
       "      <th>Area</th>\n",
       "      <th>Perimeter</th>\n",
       "      <th>Convex Area</th>\n",
       "      <th>Solidity</th>\n",
       "      <th>Equivalent Diameter</th>\n",
       "      <th>Major Axis</th>\n",
       "      <th>Minor Axis</th>\n",
       "      <th>Class</th>\n",
       "    </tr>\n",
       "  </thead>\n",
       "  <tbody>\n",
       "    <tr>\n",
       "      <th>Unnamed: 0</th>\n",
       "      <td>1.000000</td>\n",
       "      <td>-0.084951</td>\n",
       "      <td>-0.205686</td>\n",
       "      <td>-0.095241</td>\n",
       "      <td>-0.271263</td>\n",
       "      <td>-0.248822</td>\n",
       "      <td>-0.110768</td>\n",
       "      <td>-0.033407</td>\n",
       "      <td>-0.841462</td>\n",
       "    </tr>\n",
       "    <tr>\n",
       "      <th>Area</th>\n",
       "      <td>-0.084951</td>\n",
       "      <td>1.000000</td>\n",
       "      <td>0.507090</td>\n",
       "      <td>0.906965</td>\n",
       "      <td>0.150100</td>\n",
       "      <td>0.863930</td>\n",
       "      <td>0.402509</td>\n",
       "      <td>0.103028</td>\n",
       "      <td>0.108898</td>\n",
       "    </tr>\n",
       "    <tr>\n",
       "      <th>Perimeter</th>\n",
       "      <td>-0.205686</td>\n",
       "      <td>0.507090</td>\n",
       "      <td>1.000000</td>\n",
       "      <td>0.751252</td>\n",
       "      <td>-0.131954</td>\n",
       "      <td>0.727837</td>\n",
       "      <td>0.670185</td>\n",
       "      <td>0.201981</td>\n",
       "      <td>0.249779</td>\n",
       "    </tr>\n",
       "    <tr>\n",
       "      <th>Convex Area</th>\n",
       "      <td>-0.095241</td>\n",
       "      <td>0.906965</td>\n",
       "      <td>0.751252</td>\n",
       "      <td>1.000000</td>\n",
       "      <td>0.013181</td>\n",
       "      <td>0.850233</td>\n",
       "      <td>0.548482</td>\n",
       "      <td>0.141966</td>\n",
       "      <td>0.143266</td>\n",
       "    </tr>\n",
       "    <tr>\n",
       "      <th>Solidity</th>\n",
       "      <td>-0.271263</td>\n",
       "      <td>0.150100</td>\n",
       "      <td>-0.131954</td>\n",
       "      <td>0.013181</td>\n",
       "      <td>1.000000</td>\n",
       "      <td>0.241274</td>\n",
       "      <td>-0.185935</td>\n",
       "      <td>-0.108843</td>\n",
       "      <td>0.304830</td>\n",
       "    </tr>\n",
       "    <tr>\n",
       "      <th>Equivalent Diameter</th>\n",
       "      <td>-0.248822</td>\n",
       "      <td>0.863930</td>\n",
       "      <td>0.727837</td>\n",
       "      <td>0.850233</td>\n",
       "      <td>0.241274</td>\n",
       "      <td>1.000000</td>\n",
       "      <td>0.523142</td>\n",
       "      <td>0.139572</td>\n",
       "      <td>0.260235</td>\n",
       "    </tr>\n",
       "    <tr>\n",
       "      <th>Major Axis</th>\n",
       "      <td>-0.110768</td>\n",
       "      <td>0.402509</td>\n",
       "      <td>0.670185</td>\n",
       "      <td>0.548482</td>\n",
       "      <td>-0.185935</td>\n",
       "      <td>0.523142</td>\n",
       "      <td>1.000000</td>\n",
       "      <td>0.776235</td>\n",
       "      <td>0.189401</td>\n",
       "    </tr>\n",
       "    <tr>\n",
       "      <th>Minor Axis</th>\n",
       "      <td>-0.033407</td>\n",
       "      <td>0.103028</td>\n",
       "      <td>0.201981</td>\n",
       "      <td>0.141966</td>\n",
       "      <td>-0.108843</td>\n",
       "      <td>0.139572</td>\n",
       "      <td>0.776235</td>\n",
       "      <td>1.000000</td>\n",
       "      <td>0.106007</td>\n",
       "    </tr>\n",
       "    <tr>\n",
       "      <th>Class</th>\n",
       "      <td>-0.841462</td>\n",
       "      <td>0.108898</td>\n",
       "      <td>0.249779</td>\n",
       "      <td>0.143266</td>\n",
       "      <td>0.304830</td>\n",
       "      <td>0.260235</td>\n",
       "      <td>0.189401</td>\n",
       "      <td>0.106007</td>\n",
       "      <td>1.000000</td>\n",
       "    </tr>\n",
       "  </tbody>\n",
       "</table>\n",
       "</div>"
      ],
      "text/plain": [
       "                     Unnamed: 0      Area  ...  Minor Axis     Class\n",
       "Unnamed: 0             1.000000 -0.084951  ...   -0.033407 -0.841462\n",
       "Area                  -0.084951  1.000000  ...    0.103028  0.108898\n",
       "Perimeter             -0.205686  0.507090  ...    0.201981  0.249779\n",
       "Convex Area           -0.095241  0.906965  ...    0.141966  0.143266\n",
       "Solidity              -0.271263  0.150100  ...   -0.108843  0.304830\n",
       "Equivalent Diameter   -0.248822  0.863930  ...    0.139572  0.260235\n",
       "Major Axis            -0.110768  0.402509  ...    0.776235  0.189401\n",
       "Minor Axis            -0.033407  0.103028  ...    1.000000  0.106007\n",
       "Class                 -0.841462  0.108898  ...    0.106007  1.000000\n",
       "\n",
       "[9 rows x 9 columns]"
      ]
     },
     "execution_count": 107,
     "metadata": {
      "tags": []
     },
     "output_type": "execute_result"
    }
   ],
   "source": [
    "#Get the correlation of the columns\n",
    "df.corr()"
   ]
  },
  {
   "cell_type": "code",
   "execution_count": 108,
   "metadata": {
    "colab": {
     "base_uri": "https://localhost:8080/",
     "height": 613
    },
    "colab_type": "code",
    "id": "Ql7bEQxmjDFR",
    "outputId": "70654ac9-533a-4f59-efdd-1ae3cc0e6dfe"
   },
   "outputs": [
    {
     "data": {
      "text/plain": [
       "<matplotlib.axes._subplots.AxesSubplot at 0x7f725ac16438>"
      ]
     },
     "execution_count": 108,
     "metadata": {
      "tags": []
     },
     "output_type": "execute_result"
    },
    {
     "data": {
      "image/png": "[encoded data removed]",
      "text/plain": [
       "<Figure size 1440x720 with 2 Axes>"
      ]
     },
     "metadata": {
      "needs_background": "light",
      "tags": []
     },
     "output_type": "display_data"
    }
   ],
   "source": [
    "#Visualize the correlation \n",
    "#NOTE: To see the numbers within the cell ==>  sns.heatmap(df.corr(), annot=True)\n",
    "plt.figure(figsize=(20,10))  #This is used to change the size of the figure/ heatmap\n",
    "sns.heatmap(df.corr(), annot=True, fmt='.0%')\n",
    "#plt.figure(figsize=(10,10)) #This is used to change the size of the figure/ heatmap\n",
    "#sns.heatmap(df.iloc[:,1:12].corr(), annot=True, fmt='.0%') #Get a heap map of 11 columns, index 1-11, note index 0 is just the id column and is left out."
   ]
  },
  {
   "cell_type": "code",
   "execution_count": 0,
   "metadata": {
    "colab": {},
    "colab_type": "code",
    "id": "t9JePsysjLSt"
   },
   "outputs": [],
   "source": [
    "#Split the data into independent 'X' and dependent 'Y' variables\n",
    "X = df.iloc[:, 0:8].values \n",
    "Y = df.iloc[:, 9].values "
   ]
  },
  {
   "cell_type": "code",
   "execution_count": 0,
   "metadata": {
    "colab": {},
    "colab_type": "code",
    "id": "9YO6-hbbjRnQ"
   },
   "outputs": [],
   "source": [
    "# Split the dataset into 75% Training set and 25% Testing set\n",
    "from sklearn.model_selection import train_test_split\n",
    "X_train, X_test, Y_train, Y_test = train_test_split(X, Y, test_size = 0.29, random_state = 0)"
   ]
  },
  {
   "cell_type": "code",
   "execution_count": 0,
   "metadata": {
    "colab": {},
    "colab_type": "code",
    "id": "i0rniIGgkWMi"
   },
   "outputs": [],
   "source": [
    "#Feature Scaling\n",
    "from sklearn.preprocessing import StandardScaler\n",
    "sc = StandardScaler()\n",
    "X_train = sc.fit_transform(X_train)\n",
    "X_test = sc.transform(X_test)\n",
    "#X_train"
   ]
  },
  {
   "cell_type": "code",
   "execution_count": 115,
   "metadata": {
    "colab": {
     "base_uri": "https://localhost:8080/",
     "height": 145
    },
    "colab_type": "code",
    "id": "IVZc9ygekZy7",
    "outputId": "77d8e52d-e078-4a40-8e57-f202295fd116"
   },
   "outputs": [
    {
     "name": "stdout",
     "output_type": "stream",
     "text": [
      "[0]Logistic Regression Training Accuracy: 0.9941520467836257\n",
      "[1]K Nearest Neighbor Training Accuracy: 0.9824561403508771\n",
      "[2]Support Vector Machine (Linear Classifier) Training Accuracy: 0.9941520467836257\n",
      "[3]Support Vector Machine (RBF Classifier) Training Accuracy: 0.9766081871345029\n",
      "[4]Gaussian Naive Bayes Training Accuracy: 0.8362573099415205\n",
      "[5]Decision Tree Classifier Training Accuracy: 1.0\n",
      "[6]Random Forest Classifier Training Accuracy: 1.0\n"
     ]
    }
   ],
   "source": [
    "#Create a function within many Machine Learning Models\n",
    "def models(X_train,Y_train):\n",
    "  \n",
    "  #Using Logistic Regression Algorithm to the Training Set\n",
    "  from sklearn.linear_model import LogisticRegression\n",
    "  log = LogisticRegression(random_state = 0)\n",
    "  log.fit(X_train, Y_train)\n",
    "  \n",
    "  #Using KNeighborsClassifier Method of neighbors class to use Nearest Neighbor algorithm\n",
    "  from sklearn.neighbors import KNeighborsClassifier\n",
    "  knn = KNeighborsClassifier(n_neighbors = 5, metric = 'minkowski', p = 2)\n",
    "  knn.fit(X_train, Y_train)\n",
    "\n",
    "  #Using SVC method of svm class to use Support Vector Machine Algorithm\n",
    "  from sklearn.svm import SVC\n",
    "  svc_lin = SVC(kernel = 'linear', random_state =0)\n",
    "  svc_lin.fit(X_train, Y_train)\n",
    "\n",
    "  #Using SVC method of svm class to use Kernel SVM Algorithm\n",
    "  from sklearn.svm import SVC\n",
    "  svc_rbf = SVC(kernel = 'rbf', random_state = 0)\n",
    "  svc_rbf.fit(X_train, Y_train)\n",
    "\n",
    "  #Using GaussianNB method of naïve_bayes class to use Naïve Bayes Algorithm\n",
    "  from sklearn.naive_bayes import GaussianNB\n",
    "  gauss = GaussianNB()\n",
    "  gauss.fit(X_train, Y_train)\n",
    "\n",
    "  #Using DecisionTreeClassifier of tree class to use Decision Tree Algorithm\n",
    "  from sklearn.tree import DecisionTreeClassifier\n",
    "  tree = DecisionTreeClassifier(criterion = 'entropy', random_state = 0)\n",
    "  tree.fit(X_train, Y_train)\n",
    "\n",
    "  #Using RandomForestClassifier method of ensemble class to use Random Forest Classification algorithm\n",
    "  from sklearn.ensemble import RandomForestClassifier\n",
    "  forest = RandomForestClassifier(n_estimators = 10, criterion = 'entropy', random_state = 10)\n",
    "  forest.fit(X_train, Y_train)\n",
    "  \n",
    "  \n",
    "  #print model accuracy on the training data.\n",
    "  print('[0]Logistic Regression Training Accuracy:', log.score(X_train, Y_train))\n",
    "  print('[1]K Nearest Neighbor Training Accuracy:', knn.score(X_train, Y_train))\n",
    "  print('[2]Support Vector Machine (Linear Classifier) Training Accuracy:', svc_lin.score(X_train, Y_train))\n",
    "  print('[3]Support Vector Machine (RBF Classifier) Training Accuracy:', svc_rbf.score(X_train, Y_train))\n",
    "  print('[4]Gaussian Naive Bayes Training Accuracy:', gauss.score(X_train, Y_train))\n",
    "  print('[5]Decision Tree Classifier Training Accuracy:', tree.score(X_train, Y_train))\n",
    "  print('[6]Random Forest Classifier Training Accuracy:', forest.score(X_train, Y_train))\n",
    "  \n",
    "  return log, knn, svc_lin, svc_rbf, gauss, tree, forest\n",
    "\n",
    "model = models(X_train,Y_train)"
   ]
  },
  {
   "cell_type": "code",
   "execution_count": 116,
   "metadata": {
    "colab": {
     "base_uri": "https://localhost:8080/",
     "height": 1000
    },
    "colab_type": "code",
    "id": "0J_flLpJlN_5",
    "outputId": "fc32483a-5f1c-4230-cf8a-b94f4114fc7c"
   },
   "outputs": [
    {
     "name": "stdout",
     "output_type": "stream",
     "text": [
      "[[27  1]\n",
      " [ 0 42]]\n",
      "Model[0] Testing Accuracy = \"0.9857142857142858!\"\n",
      "\n",
      "[[27  1]\n",
      " [ 1 41]]\n",
      "Model[1] Testing Accuracy = \"0.9714285714285714!\"\n",
      "\n",
      "[[27  1]\n",
      " [ 0 42]]\n",
      "Model[2] Testing Accuracy = \"0.9857142857142858!\"\n",
      "\n",
      "[[27  1]\n",
      " [ 0 42]]\n",
      "Model[3] Testing Accuracy = \"0.9857142857142858!\"\n",
      "\n",
      "[[26  2]\n",
      " [12 30]]\n",
      "Model[4] Testing Accuracy = \"0.8!\"\n",
      "\n",
      "[[28  0]\n",
      " [ 0 42]]\n",
      "Model[5] Testing Accuracy = \"1.0!\"\n",
      "\n",
      "[[28  0]\n",
      " [ 0 42]]\n",
      "Model[6] Testing Accuracy = \"1.0!\"\n",
      "\n",
      "Model  0\n",
      "              precision    recall  f1-score   support\n",
      "\n",
      "           0       1.00      0.96      0.98        28\n",
      "           1       0.98      1.00      0.99        42\n",
      "\n",
      "    accuracy                           0.99        70\n",
      "   macro avg       0.99      0.98      0.99        70\n",
      "weighted avg       0.99      0.99      0.99        70\n",
      "\n",
      "0.9857142857142858\n",
      "\n",
      "Model  1\n",
      "              precision    recall  f1-score   support\n",
      "\n",
      "           0       0.96      0.96      0.96        28\n",
      "           1       0.98      0.98      0.98        42\n",
      "\n",
      "    accuracy                           0.97        70\n",
      "   macro avg       0.97      0.97      0.97        70\n",
      "weighted avg       0.97      0.97      0.97        70\n",
      "\n",
      "0.9714285714285714\n",
      "\n",
      "Model  2\n",
      "              precision    recall  f1-score   support\n",
      "\n",
      "           0       1.00      0.96      0.98        28\n",
      "           1       0.98      1.00      0.99        42\n",
      "\n",
      "    accuracy                           0.99        70\n",
      "   macro avg       0.99      0.98      0.99        70\n",
      "weighted avg       0.99      0.99      0.99        70\n",
      "\n",
      "0.9857142857142858\n",
      "\n",
      "Model  3\n",
      "              precision    recall  f1-score   support\n",
      "\n",
      "           0       1.00      0.96      0.98        28\n",
      "           1       0.98      1.00      0.99        42\n",
      "\n",
      "    accuracy                           0.99        70\n",
      "   macro avg       0.99      0.98      0.99        70\n",
      "weighted avg       0.99      0.99      0.99        70\n",
      "\n",
      "0.9857142857142858\n",
      "\n",
      "Model  4\n",
      "              precision    recall  f1-score   support\n",
      "\n",
      "           0       0.68      0.93      0.79        28\n",
      "           1       0.94      0.71      0.81        42\n",
      "\n",
      "    accuracy                           0.80        70\n",
      "   macro avg       0.81      0.82      0.80        70\n",
      "weighted avg       0.84      0.80      0.80        70\n",
      "\n",
      "0.8\n",
      "\n",
      "Model  5\n",
      "              precision    recall  f1-score   support\n",
      "\n",
      "           0       1.00      1.00      1.00        28\n",
      "           1       1.00      1.00      1.00        42\n",
      "\n",
      "    accuracy                           1.00        70\n",
      "   macro avg       1.00      1.00      1.00        70\n",
      "weighted avg       1.00      1.00      1.00        70\n",
      "\n",
      "1.0\n",
      "\n",
      "Model  6\n",
      "              precision    recall  f1-score   support\n",
      "\n",
      "           0       1.00      1.00      1.00        28\n",
      "           1       1.00      1.00      1.00        42\n",
      "\n",
      "    accuracy                           1.00        70\n",
      "   macro avg       1.00      1.00      1.00        70\n",
      "weighted avg       1.00      1.00      1.00        70\n",
      "\n",
      "1.0\n",
      "\n",
      "[1 1 1 1 1 0 0 0 0 0 1 0 1 0 0 1 0 1 0 1 1 0 1 1 1 1 0 1 1 0 1 1 0 1 1 1 1\n",
      " 0 1 1 0 1 0 1 1 1 1 1 1 0 1 0 0 1 1 1 0 0 1 0 1 0 1 0 0 0 1 0 1 1]\n",
      "\n",
      "[1 1 1 1 1 0 0 0 0 0 1 0 1 0 0 1 0 1 0 1 1 0 1 1 1 1 0 1 1 0 1 1 0 1 1 1 1\n",
      " 0 1 1 0 1 0 1 1 1 1 1 1 0 1 0 0 1 1 1 0 0 1 0 1 0 1 0 0 0 1 0 1 1]\n"
     ]
    }
   ],
   "source": [
    "#Show the confusion matrix and accuracy for all of the models on the test data\n",
    "#Classification accuracy is the ratio of correct predictions to total predictions made.\n",
    "from sklearn.metrics import confusion_matrix\n",
    "for i in range(len(model)):\n",
    "  cm = confusion_matrix(Y_test, model[i].predict(X_test))\n",
    "  TN = cm[0][0]\n",
    "  TP = cm[1][1]\n",
    "  FN = cm[1][0]\n",
    "  FP = cm[0][1]\n",
    "  print(cm)\n",
    "  print('Model[{}] Testing Accuracy = \"{}!\"'.format(i,  (TP + TN) / (TP + TN + FN + FP)))\n",
    "  print()# Print a new line\n",
    "\n",
    "#Show other ways to get the classification accuracy & other metrics \n",
    "\n",
    "from sklearn.metrics import classification_report\n",
    "from sklearn.metrics import accuracy_score\n",
    "\n",
    "for i in range(len(model)):\n",
    "  print('Model ',i)\n",
    "  #Check precision, recall, f1-score\n",
    "  print( classification_report(Y_test, model[i].predict(X_test)) )\n",
    "  #Another way to get the models accuracy on the test data\n",
    "  print( accuracy_score(Y_test, model[i].predict(X_test)))\n",
    "  print()#Print a new line\n",
    "\n",
    "    \n",
    "#Print Prediction of Random Forest Classifier model\n",
    "pred = model[6].predict(X_test)\n",
    "print(pred)\n",
    "#Print a space\n",
    "print()\n",
    "#Print the actual values\n",
    "print(Y_test)\n"
   ]
  },
  {
   "cell_type": "code",
   "execution_count": 0,
   "metadata": {
    "colab": {},
    "colab_type": "code",
    "id": "Pp_cFyagoKC0"
   },
   "outputs": [],
   "source": []
  }
 ],
 "metadata": {
  "colab": {
   "name": "brain-tumor-detection",
   "provenance": []
  },
  "kernelspec": {
   "display_name": "Python 3",
   "language": "python",
   "name": "python3"
  },
  "language_info": {
   "codemirror_mode": {
    "name": "ipython",
    "version": 3
   },
   "file_extension": ".py",
   "mimetype": "text/x-python",
   "name": "python",
   "nbconvert_exporter": "python",
   "pygments_lexer": "ipython3",
   "version": "3.8.5"
  }
 },
 "nbformat": 4,
 "nbformat_minor": 1
}
